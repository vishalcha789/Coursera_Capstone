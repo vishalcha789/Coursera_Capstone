{
    "cells": [
        {
            "metadata": {
                "collapsed": true
            },
            "cell_type": "markdown",
            "source": "# Part 1 - A description of the problem and a discussion of the background."
        },
        {
            "metadata": {},
            "cell_type": "markdown",
            "source": "### a) Description of the Problem"
        },
        {
            "metadata": {},
            "cell_type": "markdown",
            "source": "We are well versed on development in london and how they have emerged has a most fine country in the world. London is known for pubs, restaurants, night life, industrial sector. However, we will concentrate on restaurant section which are increasing with varieties. The real deal is that as much as there are many fine restaurants in London \u2013 Asian, Middle Eastern, Latin and American restaurants, its very difficult to find good place to dine in the finest of indian cuisine that has combination of Malvani, konkani, punjabi style.\n"
        },
        {
            "metadata": {},
            "cell_type": "markdown",
            "source": "### b) Discussion of the Background"
        },
        {
            "metadata": {},
            "cell_type": "markdown",
            "source": "Tadka, a successful restaurant chain in India is looking to expand operation into Europe through London. They want to create a high-end restaurant that comes with organic mix and healthy. Their target is not only Indians, but all communities which would like to taste something different. \nSince the London demography is so big, my client needs deeper insight from available data in other to decide where to establish the first Europe \u201cpalace\u201d restaurant. This company spends a lot on research and provides customers with data insight into the ingredients used at restaurants."
        },
        {
            "metadata": {},
            "cell_type": "markdown",
            "source": "### c) Target Audience"
        },
        {
            "metadata": {},
            "cell_type": "markdown",
            "source": "Considering the diversity in London where most people are multireligion based. London is a place where different shades live. Most people resides in london are migrants where they come for job or education from india. Definetly, by looking at the population we can determine there is highly shortage of indian restaurants in London."
        },
        {
            "metadata": {},
            "cell_type": "markdown",
            "source": "# Part 2 - A description of the data and how it will be used to solve the problem"
        },
        {
            "metadata": {},
            "cell_type": "markdown",
            "source": "### Description of Data"
        },
        {
            "metadata": {},
            "cell_type": "markdown",
            "source": "This project will rely on public data from Wikipedia and Foursquare."
        },
        {
            "metadata": {},
            "cell_type": "markdown",
            "source": "In this project, London will be used as synonymous to the \"Greater London Area\" in this project. Within the Greater London Area, there are areas that are within the London Area Postcode. The focus of this project will be the nieghbourhoods are that are within the London Post Code area.\nThe London Area consists of 32 Boroughs and the \"City of London\". Our data will be from the link - Greater London Area <https://en.wikipedia.org/wiki/List_of_areas_of_London >\n\nA sample of the web scrapped of the Wikipedia page for the Greater London Area data is provided below:"
        },
        {
            "metadata": {},
            "cell_type": "code",
            "source": "import requests\nimport pandas as pd\nfrom bs4 import BeautifulSoup",
            "execution_count": 2,
            "outputs": []
        },
        {
            "metadata": {},
            "cell_type": "code",
            "source": "wikipedia_link = 'https://en.wikipedia.org/wiki/List_of_areas_of_London'\nheaders = {'User-Agent': 'Mozilla/5.0 (Windows NT 10.0; Win64; x64; rv:64.0) Gecko/20100101 Firefox/64.0'}\nwikipedia_page = requests.get(wikipedia_link, headers = headers)\nwikipedia_page",
            "execution_count": 3,
            "outputs": [
                {
                    "output_type": "execute_result",
                    "execution_count": 3,
                    "data": {
                        "text/plain": "<Response [200]>"
                    },
                    "metadata": {}
                }
            ]
        },
        {
            "metadata": {},
            "cell_type": "code",
            "source": "# Cleans html file\nsoup = BeautifulSoup(wikipedia_page.content, 'html.parser')\n# This extracts the \"tbody\" within the table where class is \"wikitable sortable\"\ntable = soup.find('table', {'class':'wikitable sortable'}).tbody\n# table",
            "execution_count": 4,
            "outputs": []
        },
        {
            "metadata": {},
            "cell_type": "code",
            "source": "# Extracts all \"tr\" (table rows) within the table above\nrows = table.find_all('tr')\n# rows\n# Extracts every row with corresponding columns\n# Then appends the values to the create pd dataframe \"df\"\n# Please not that the first row (row[0]) is skipped because it is already the header\n\nfor i in range(1, len(rows)):\n    tds = rows[i].find_all('td')\n    \n    \n    if len(tds) == 7:\n        values = [tds[0].text, tds[1].text, tds[2].text.replace('\\n', ''.replace('\\xa0','')), tds[3].text, tds[4].text.replace('\\n', ''.replace('\\xa0','')), tds[5].text.replace('\\n', ''.replace('\\xa0','')), tds[6].text.replace('\\n', ''.replace('\\xa0',''))]\n    else:\n        values = [td.text.replace('\\n', '').replace('\\xa0','') for td in tds]\n        \n        df = df.append(pd.Series(values, index = columns), ignore_index = True)\n\n        df",
            "execution_count": 8,
            "outputs": []
        },
        {
            "metadata": {},
            "cell_type": "code",
            "source": "# Extracts the column headers, removes and replaces possible '\\n' with space for the \"th\" tag\ncolumns = [i.text.replace('\\n', '')\n           for i in rows[0].find_all('th')]\n# columns",
            "execution_count": 9,
            "outputs": []
        },
        {
            "metadata": {},
            "cell_type": "code",
            "source": "# Converts columns to pd dataframe\ndf = pd.DataFrame(columns = columns)\n# df",
            "execution_count": 10,
            "outputs": []
        },
        {
            "metadata": {},
            "cell_type": "code",
            "source": "df.head()",
            "execution_count": 11,
            "outputs": [
                {
                    "output_type": "execute_result",
                    "execution_count": 11,
                    "data": {
                        "text/plain": "Empty DataFrame\nColumns: [Location, London\u00a0borough, Post town, Postcode\u00a0district, Dial\u00a0code, OS grid ref]\nIndex: []",
                        "text/html": "<div>\n<style scoped>\n    .dataframe tbody tr th:only-of-type {\n        vertical-align: middle;\n    }\n\n    .dataframe tbody tr th {\n        vertical-align: top;\n    }\n\n    .dataframe thead th {\n        text-align: right;\n    }\n</style>\n<table border=\"1\" class=\"dataframe\">\n  <thead>\n    <tr style=\"text-align: right;\">\n      <th></th>\n      <th>Location</th>\n      <th>London\u00a0borough</th>\n      <th>Post town</th>\n      <th>Postcode\u00a0district</th>\n      <th>Dial\u00a0code</th>\n      <th>OS grid ref</th>\n    </tr>\n  </thead>\n  <tbody>\n  </tbody>\n</table>\n</div>"
                    },
                    "metadata": {}
                }
            ]
        },
        {
            "metadata": {},
            "cell_type": "code",
            "source": "",
            "execution_count": null,
            "outputs": []
        }
    ],
    "metadata": {
        "kernelspec": {
            "name": "python3",
            "display_name": "Python 3.6",
            "language": "python"
        },
        "language_info": {
            "name": "python",
            "version": "3.6.9",
            "mimetype": "text/x-python",
            "codemirror_mode": {
                "name": "ipython",
                "version": 3
            },
            "pygments_lexer": "ipython3",
            "nbconvert_exporter": "python",
            "file_extension": ".py"
        }
    },
    "nbformat": 4,
    "nbformat_minor": 1
}