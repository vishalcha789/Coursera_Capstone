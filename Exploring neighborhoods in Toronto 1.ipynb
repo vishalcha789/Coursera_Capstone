{
    "cells": [
        {
            "cell_type": "markdown",
            "metadata": {
                "collapsed": true
            },
            "source": "## Question 1"
        },
        {
            "cell_type": "code",
            "execution_count": 23,
            "metadata": {},
            "outputs": [],
            "source": "import pandas as pd\nimport numpy as np\nimport requests\n\nfrom bs4 import BeautifulSoup"
        },
        {
            "cell_type": "code",
            "execution_count": 32,
            "metadata": {},
            "outputs": [
                {
                    "name": "stdout",
                    "output_type": "stream",
                    "text": "soup ready\n"
                }
            ],
            "source": "\n\nsource = requests.get('https://en.wikipedia.org/wiki/List_of_postal_codes_of_Canada:_M').text\n\nsoup = BeautifulSoup(source, 'lxml')\n\n#print(soup.prettify())\nprint('soup ready')"
        },
        {
            "cell_type": "code",
            "execution_count": 35,
            "metadata": {},
            "outputs": [
                {
                    "data": {
                        "text/html": "<div>\n<style scoped>\n    .dataframe tbody tr th:only-of-type {\n        vertical-align: middle;\n    }\n\n    .dataframe tbody tr th {\n        vertical-align: top;\n    }\n\n    .dataframe thead th {\n        text-align: right;\n    }\n</style>\n<table border=\"1\" class=\"dataframe\">\n  <thead>\n    <tr style=\"text-align: right;\">\n      <th></th>\n      <th>PostalCode</th>\n      <th>Borough</th>\n    </tr>\n  </thead>\n  <tbody>\n    <tr>\n      <th>0</th>\n      <td>M3A</td>\n      <td>North York(Parkwoods)</td>\n    </tr>\n    <tr>\n      <th>1</th>\n      <td>M4A</td>\n      <td>North York(Victoria Village)</td>\n    </tr>\n    <tr>\n      <th>2</th>\n      <td>M5A</td>\n      <td>Downtown Toronto(Regent Park / Harbourfront)</td>\n    </tr>\n    <tr>\n      <th>3</th>\n      <td>M6A</td>\n      <td>North York(Lawrence Manor / Lawrence Heights)</td>\n    </tr>\n    <tr>\n      <th>4</th>\n      <td>M7A</td>\n      <td>Queen's Park / Ontario Provincial Government</td>\n    </tr>\n    <tr>\n      <th>5</th>\n      <td>M9A</td>\n      <td>Etobicoke(Islington Avenue)</td>\n    </tr>\n    <tr>\n      <th>6</th>\n      <td>M1B</td>\n      <td>Scarborough(Malvern / Rouge)</td>\n    </tr>\n    <tr>\n      <th>7</th>\n      <td>M3B</td>\n      <td>North York(Don Mills)North</td>\n    </tr>\n    <tr>\n      <th>8</th>\n      <td>M4B</td>\n      <td>East York(Parkview Hill / Woodbine Gardens)</td>\n    </tr>\n    <tr>\n      <th>9</th>\n      <td>M5B</td>\n      <td>Downtown Toronto(Garden District, Ryerson)</td>\n    </tr>\n  </tbody>\n</table>\n</div>",
                        "text/plain": "  PostalCode                                        Borough\n0        M3A                          North York(Parkwoods)\n1        M4A                   North York(Victoria Village)\n2        M5A   Downtown Toronto(Regent Park / Harbourfront)\n3        M6A  North York(Lawrence Manor / Lawrence Heights)\n4        M7A   Queen's Park / Ontario Provincial Government\n5        M9A                    Etobicoke(Islington Avenue)\n6        M1B                   Scarborough(Malvern / Rouge)\n7        M3B                     North York(Don Mills)North\n8        M4B    East York(Parkview Hill / Woodbine Gardens)\n9        M5B     Downtown Toronto(Garden District, Ryerson)"
                    },
                    "execution_count": 35,
                    "metadata": {},
                    "output_type": "execute_result"
                }
            ],
            "source": "table1 = soup.find('div', class_ ='mw-parser-output').table\ntable_row = table1.find_all('td')\n\ncolumn_names = ['PostalCode', 'Borough']\ndf = pd.DataFrame(columns=column_names)\n\nfor td in table_row:\n    boroughNeigh = td.p.span.text\n    if boroughNeigh != \"Not assigned\":\n        pstcd = td.p.b.text\n        boroughNeigh = td.p.span.text\n        df = df.append({'PostalCode':pstcd, 'Borough':boroughNeigh}, ignore_index=True)\ndf.head(10)"
        },
        {
            "cell_type": "code",
            "execution_count": 36,
            "metadata": {},
            "outputs": [],
            "source": "df = df[df.PostalCode != 'M7A'].reset_index(drop=True)\n\n#Spliting the Borough column into Borough & Neighbourhood\ndf[\"Neighborhood\"] = df[\"Borough\"].str.split(pat='(', n=-1, expand=True)[1]\ndf[\"Neighborhood\"] = df[\"Neighborhood\"].str.split(pat=')', n=-1, expand=True)[0]\ndf[\"Borough\"] = df[\"Borough\"].str.split(pat='(', n=-1, expand=True)[0]\n\n#If there are multiple neighborhoods replace the separator  '/' with ','\ndf['Neighborhood'] = df['Neighborhood'].str.replace(' /', ',', n=-1)"
        },
        {
            "cell_type": "code",
            "execution_count": 37,
            "metadata": {},
            "outputs": [
                {
                    "data": {
                        "text/plain": "North York                                                      24\nScarborough                                                     17\nDowntown Toronto                                                17\nEtobicoke                                                       11\nCentral Toronto                                                  9\nWest Toronto                                                     6\nYork                                                             5\nEast York                                                        4\nEast Toronto                                                     4\nEast YorkEast Toronto                                            1\nEtobicokeNorthwest                                               1\nMississaugaCanada Post Gateway Processing Centre                 1\nDowntown TorontoStn A PO Boxes25 The Esplanade                   1\nEast TorontoBusiness reply mail Processing Centre969 Eastern     1\nName: Borough, dtype: int64"
                    },
                    "execution_count": 37,
                    "metadata": {},
                    "output_type": "execute_result"
                }
            ],
            "source": "## Grouping the data\ndf['Borough'].value_counts()"
        },
        {
            "cell_type": "code",
            "execution_count": 38,
            "metadata": {},
            "outputs": [
                {
                    "data": {
                        "text/plain": "North York          24\nDowntown Toronto    18\nScarborough         17\nEtobicoke           12\nCentral Toronto      9\nWest Toronto         6\nEast Toronto         5\nEast York            5\nYork                 5\nMississauga          1\nName: Borough, dtype: int64"
                    },
                    "execution_count": 38,
                    "metadata": {},
                    "output_type": "execute_result"
                }
            ],
            "source": "df['Borough'].loc[34] = 'East York'\ndf['Borough'].loc[91] = 'Downtown Toronto'\ndf['Borough'].loc[75] = 'Mississauga'\ndf['Borough'].loc[99] = 'East Toronto'\ndf['Borough'].loc[93] = 'Etobicoke'\ndf['Borough'].value_counts()"
        },
        {
            "cell_type": "code",
            "execution_count": 41,
            "metadata": {},
            "outputs": [
                {
                    "data": {
                        "text/html": "<div>\n<style scoped>\n    .dataframe tbody tr th:only-of-type {\n        vertical-align: middle;\n    }\n\n    .dataframe tbody tr th {\n        vertical-align: top;\n    }\n\n    .dataframe thead th {\n        text-align: right;\n    }\n</style>\n<table border=\"1\" class=\"dataframe\">\n  <thead>\n    <tr style=\"text-align: right;\">\n      <th></th>\n      <th>PostalCode</th>\n      <th>Borough</th>\n      <th>Neighborhood</th>\n    </tr>\n  </thead>\n  <tbody>\n    <tr>\n      <th>0</th>\n      <td>M3A</td>\n      <td>North York</td>\n      <td>Parkwoods</td>\n    </tr>\n    <tr>\n      <th>1</th>\n      <td>M4A</td>\n      <td>North York</td>\n      <td>Victoria Village</td>\n    </tr>\n    <tr>\n      <th>2</th>\n      <td>M5A</td>\n      <td>Downtown Toronto</td>\n      <td>Regent Park, Harbourfront</td>\n    </tr>\n    <tr>\n      <th>3</th>\n      <td>M6A</td>\n      <td>North York</td>\n      <td>Lawrence Manor, Lawrence Heights</td>\n    </tr>\n    <tr>\n      <th>4</th>\n      <td>M9A</td>\n      <td>Etobicoke</td>\n      <td>Islington Avenue</td>\n    </tr>\n  </tbody>\n</table>\n</div>",
                        "text/plain": "  PostalCode           Borough                      Neighborhood\n0        M3A        North York                         Parkwoods\n1        M4A        North York                  Victoria Village\n2        M5A  Downtown Toronto         Regent Park, Harbourfront\n3        M6A        North York  Lawrence Manor, Lawrence Heights\n4        M9A         Etobicoke                  Islington Avenue"
                    },
                    "execution_count": 41,
                    "metadata": {},
                    "output_type": "execute_result"
                }
            ],
            "source": "df.head()"
        },
        {
            "cell_type": "code",
            "execution_count": 42,
            "metadata": {},
            "outputs": [
                {
                    "data": {
                        "text/plain": "(102, 3)"
                    },
                    "execution_count": 42,
                    "metadata": {},
                    "output_type": "execute_result"
                }
            ],
            "source": "df.shape"
        },
        {
            "cell_type": "code",
            "execution_count": null,
            "metadata": {},
            "outputs": [],
            "source": ""
        }
    ],
    "metadata": {
        "kernelspec": {
            "display_name": "Python 3.6",
            "language": "python",
            "name": "python3"
        },
        "language_info": {
            "codemirror_mode": {
                "name": "ipython",
                "version": 3
            },
            "file_extension": ".py",
            "mimetype": "text/x-python",
            "name": "python",
            "nbconvert_exporter": "python",
            "pygments_lexer": "ipython3",
            "version": "3.6.9"
        }
    },
    "nbformat": 4,
    "nbformat_minor": 1
}